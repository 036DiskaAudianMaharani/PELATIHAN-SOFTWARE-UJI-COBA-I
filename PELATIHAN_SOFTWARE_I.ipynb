{
  "nbformat": 4,
  "nbformat_minor": 0,
  "metadata": {
    "colab": {
      "provenance": []
    },
    "kernelspec": {
      "name": "python3",
      "display_name": "Python 3"
    },
    "language_info": {
      "name": "python"
    }
  },
  "cells": [
    {
      "cell_type": "markdown",
      "source": [
        "# **PELATIHAN SOFTWARE**\n",
        "\n",
        "Sabtu, 13 Mei 2023"
      ],
      "metadata": {
        "id": "MjaioqhU95wc"
      }
    },
    {
      "cell_type": "code",
      "source": [
        "import pandas as pd"
      ],
      "metadata": {
        "id": "6gK253pjChKd"
      },
      "execution_count": 3,
      "outputs": []
    },
    {
      "cell_type": "code",
      "source": [
        "data = pd.read_csv('asuransi_mobil.csv')\n",
        "print(data)"
      ],
      "metadata": {
        "colab": {
          "base_uri": "https://localhost:8080/"
        },
        "id": "oVa1pH6rKYfC",
        "outputId": "cc6ff60a-699f-4ce5-ad72-afeff9ff94bf"
      },
      "execution_count": 6,
      "outputs": [
        {
          "output_type": "stream",
          "name": "stdout",
          "text": [
            "      Unnamed: 0  IDENTITAS                  UMUR JENIS_KELAMIN  \\\n",
            "0              0     569520   lebih dari 65 tahun     perempuan   \n",
            "1              1     750365  kurang dari 25 tahun     laki-laki   \n",
            "2              2     199901  kurang dari 25 tahun     perempuan   \n",
            "3              3     478866  kurang dari 25 tahun     laki-laki   \n",
            "4              4     731664    antara 25-40 tahun     laki-laki   \n",
            "...          ...        ...                   ...           ...   \n",
            "9995        9995     323164    antara 25-40 tahun     perempuan   \n",
            "9996        9996     910346    antara 25-40 tahun     perempuan   \n",
            "9997        9997     468409    antara 25-40 tahun     laki-laki   \n",
            "9998        9998     903459    antara 25-40 tahun     perempuan   \n",
            "9999        9999     442696    antara 25-40 tahun     perempuan   \n",
            "\n",
            "      PENGALAMAN_MENGEMUDI   PENDIDIKAN        PENGHASILAN  SKOR_KREDIT  \\\n",
            "0     kurang dari 10 tahun          SMA  lebih dari 3x UMR     0.629027   \n",
            "1     kurang dari 10 tahun    tidak ada    kurang dari UMR     0.357757   \n",
            "2     kurang dari 10 tahun          SMA    antara 1-2x UMR     0.493146   \n",
            "3     kurang dari 10 tahun  universitas    antara 1-2x UMR     0.206013   \n",
            "4       antara 10-20 tahun    tidak ada    antara 1-2x UMR     0.388366   \n",
            "...                    ...          ...                ...          ...   \n",
            "9995    antara 10-20 tahun  universitas  lebih dari 3x UMR     0.582787   \n",
            "9996    antara 10-20 tahun    tidak ada    antara 2-3x UMR     0.522231   \n",
            "9997  kurang dari 10 tahun          SMA    antara 2-3x UMR     0.470940   \n",
            "9998    antara 10-20 tahun          SMA    kurang dari UMR     0.364185   \n",
            "9999  kurang dari 10 tahun    tidak ada    antara 1-2x UMR     0.435225   \n",
            "\n",
            "     PEMILIK_KENDARAAN TAHUN_PRODUKSI         STATUS       ANAK  KODE_POS  \\\n",
            "0                   ya   setelah 2020  belum menikah        ada     10238   \n",
            "1                tidak   sebelum 2020  belum menikah  tidak ada     10238   \n",
            "2                   ya   sebelum 2020  belum menikah  tidak ada     10238   \n",
            "3                   ya   sebelum 2020  belum menikah        ada     32765   \n",
            "4                   ya   sebelum 2020  belum menikah  tidak ada     32765   \n",
            "...                ...            ...            ...        ...       ...   \n",
            "9995                ya   sebelum 2020  belum menikah  tidak ada     10238   \n",
            "9996                ya   setelah 2020  belum menikah        ada     32765   \n",
            "9997                ya   sebelum 2020  belum menikah        ada     10238   \n",
            "9998             tidak   sebelum 2020  belum menikah        ada     10238   \n",
            "9999                ya   sebelum 2020        menikah        ada     10238   \n",
            "\n",
            "      KM_PER_TAHUN JENIS_KENDARAAN  TILANG_NGEBUT  TILANG_MABUK  \\\n",
            "0          12000.0        keluarga              0             0   \n",
            "1          16000.0        keluarga              0             0   \n",
            "2          11000.0        keluarga              0             0   \n",
            "3          11000.0        keluarga              0             0   \n",
            "4          12000.0        keluarga              2             0   \n",
            "...            ...             ...            ...           ...   \n",
            "9995       16000.0        keluarga              0             0   \n",
            "9996           NaN        keluarga              1             0   \n",
            "9997       14000.0        keluarga              0             0   \n",
            "9998       13000.0        keluarga              2             0   \n",
            "9999       13000.0        keluarga              0             0   \n",
            "\n",
            "      KECELAKAAN_SEBELUMNYA  KLAIM  \n",
            "0                         0  tidak  \n",
            "1                         0     ya  \n",
            "2                         0  tidak  \n",
            "3                         0  tidak  \n",
            "4                         1     ya  \n",
            "...                     ...    ...  \n",
            "9995                      1  tidak  \n",
            "9996                      0  tidak  \n",
            "9997                      0  tidak  \n",
            "9998                      1     ya  \n",
            "9999                      0  tidak  \n",
            "\n",
            "[10000 rows x 19 columns]\n"
          ]
        }
      ]
    },
    {
      "cell_type": "code",
      "source": [
        "#untuk mendeskripsikan data yang dianggil di atas\n",
        "data.describe()"
      ],
      "metadata": {
        "colab": {
          "base_uri": "https://localhost:8080/",
          "height": 364
        },
        "id": "vDGEtuHgKroA",
        "outputId": "91d717e9-90c4-4e35-be12-018400747803"
      },
      "execution_count": 7,
      "outputs": [
        {
          "output_type": "execute_result",
          "data": {
            "text/plain": [
              "        Unnamed: 0      IDENTITAS  SKOR_KREDIT      KODE_POS  KM_PER_TAHUN  \\\n",
              "count  10000.00000   10000.000000  9018.000000  10000.000000   9043.000000   \n",
              "mean    4999.50000  500521.906800     0.515813  19864.548400  11697.003207   \n",
              "std     2886.89568  290030.768758     0.137688  18915.613855   2818.434528   \n",
              "min        0.00000     101.000000     0.053358  10238.000000   2000.000000   \n",
              "25%     2499.75000  249638.500000     0.417191  10238.000000  10000.000000   \n",
              "50%     4999.50000  501777.000000     0.525033  10238.000000  12000.000000   \n",
              "75%     7499.25000  753974.500000     0.618312  32765.000000  14000.000000   \n",
              "max     9999.00000  999976.000000     0.960819  92101.000000  22000.000000   \n",
              "\n",
              "       TILANG_NGEBUT  TILANG_MABUK  KECELAKAAN_SEBELUMNYA  \n",
              "count   10000.000000   10000.00000           10000.000000  \n",
              "mean        1.482900       0.23920               1.056300  \n",
              "std         2.241966       0.55499               1.652454  \n",
              "min         0.000000       0.00000               0.000000  \n",
              "25%         0.000000       0.00000               0.000000  \n",
              "50%         0.000000       0.00000               0.000000  \n",
              "75%         2.000000       0.00000               2.000000  \n",
              "max        22.000000       6.00000              15.000000  "
            ],
            "text/html": [
              "\n",
              "  <div id=\"df-ef277444-e420-4317-975d-c58e9283d028\">\n",
              "    <div class=\"colab-df-container\">\n",
              "      <div>\n",
              "<style scoped>\n",
              "    .dataframe tbody tr th:only-of-type {\n",
              "        vertical-align: middle;\n",
              "    }\n",
              "\n",
              "    .dataframe tbody tr th {\n",
              "        vertical-align: top;\n",
              "    }\n",
              "\n",
              "    .dataframe thead th {\n",
              "        text-align: right;\n",
              "    }\n",
              "</style>\n",
              "<table border=\"1\" class=\"dataframe\">\n",
              "  <thead>\n",
              "    <tr style=\"text-align: right;\">\n",
              "      <th></th>\n",
              "      <th>Unnamed: 0</th>\n",
              "      <th>IDENTITAS</th>\n",
              "      <th>SKOR_KREDIT</th>\n",
              "      <th>KODE_POS</th>\n",
              "      <th>KM_PER_TAHUN</th>\n",
              "      <th>TILANG_NGEBUT</th>\n",
              "      <th>TILANG_MABUK</th>\n",
              "      <th>KECELAKAAN_SEBELUMNYA</th>\n",
              "    </tr>\n",
              "  </thead>\n",
              "  <tbody>\n",
              "    <tr>\n",
              "      <th>count</th>\n",
              "      <td>10000.00000</td>\n",
              "      <td>10000.000000</td>\n",
              "      <td>9018.000000</td>\n",
              "      <td>10000.000000</td>\n",
              "      <td>9043.000000</td>\n",
              "      <td>10000.000000</td>\n",
              "      <td>10000.00000</td>\n",
              "      <td>10000.000000</td>\n",
              "    </tr>\n",
              "    <tr>\n",
              "      <th>mean</th>\n",
              "      <td>4999.50000</td>\n",
              "      <td>500521.906800</td>\n",
              "      <td>0.515813</td>\n",
              "      <td>19864.548400</td>\n",
              "      <td>11697.003207</td>\n",
              "      <td>1.482900</td>\n",
              "      <td>0.23920</td>\n",
              "      <td>1.056300</td>\n",
              "    </tr>\n",
              "    <tr>\n",
              "      <th>std</th>\n",
              "      <td>2886.89568</td>\n",
              "      <td>290030.768758</td>\n",
              "      <td>0.137688</td>\n",
              "      <td>18915.613855</td>\n",
              "      <td>2818.434528</td>\n",
              "      <td>2.241966</td>\n",
              "      <td>0.55499</td>\n",
              "      <td>1.652454</td>\n",
              "    </tr>\n",
              "    <tr>\n",
              "      <th>min</th>\n",
              "      <td>0.00000</td>\n",
              "      <td>101.000000</td>\n",
              "      <td>0.053358</td>\n",
              "      <td>10238.000000</td>\n",
              "      <td>2000.000000</td>\n",
              "      <td>0.000000</td>\n",
              "      <td>0.00000</td>\n",
              "      <td>0.000000</td>\n",
              "    </tr>\n",
              "    <tr>\n",
              "      <th>25%</th>\n",
              "      <td>2499.75000</td>\n",
              "      <td>249638.500000</td>\n",
              "      <td>0.417191</td>\n",
              "      <td>10238.000000</td>\n",
              "      <td>10000.000000</td>\n",
              "      <td>0.000000</td>\n",
              "      <td>0.00000</td>\n",
              "      <td>0.000000</td>\n",
              "    </tr>\n",
              "    <tr>\n",
              "      <th>50%</th>\n",
              "      <td>4999.50000</td>\n",
              "      <td>501777.000000</td>\n",
              "      <td>0.525033</td>\n",
              "      <td>10238.000000</td>\n",
              "      <td>12000.000000</td>\n",
              "      <td>0.000000</td>\n",
              "      <td>0.00000</td>\n",
              "      <td>0.000000</td>\n",
              "    </tr>\n",
              "    <tr>\n",
              "      <th>75%</th>\n",
              "      <td>7499.25000</td>\n",
              "      <td>753974.500000</td>\n",
              "      <td>0.618312</td>\n",
              "      <td>32765.000000</td>\n",
              "      <td>14000.000000</td>\n",
              "      <td>2.000000</td>\n",
              "      <td>0.00000</td>\n",
              "      <td>2.000000</td>\n",
              "    </tr>\n",
              "    <tr>\n",
              "      <th>max</th>\n",
              "      <td>9999.00000</td>\n",
              "      <td>999976.000000</td>\n",
              "      <td>0.960819</td>\n",
              "      <td>92101.000000</td>\n",
              "      <td>22000.000000</td>\n",
              "      <td>22.000000</td>\n",
              "      <td>6.00000</td>\n",
              "      <td>15.000000</td>\n",
              "    </tr>\n",
              "  </tbody>\n",
              "</table>\n",
              "</div>\n",
              "      <button class=\"colab-df-convert\" onclick=\"convertToInteractive('df-ef277444-e420-4317-975d-c58e9283d028')\"\n",
              "              title=\"Convert this dataframe to an interactive table.\"\n",
              "              style=\"display:none;\">\n",
              "        \n",
              "  <svg xmlns=\"http://www.w3.org/2000/svg\" height=\"24px\"viewBox=\"0 0 24 24\"\n",
              "       width=\"24px\">\n",
              "    <path d=\"M0 0h24v24H0V0z\" fill=\"none\"/>\n",
              "    <path d=\"M18.56 5.44l.94 2.06.94-2.06 2.06-.94-2.06-.94-.94-2.06-.94 2.06-2.06.94zm-11 1L8.5 8.5l.94-2.06 2.06-.94-2.06-.94L8.5 2.5l-.94 2.06-2.06.94zm10 10l.94 2.06.94-2.06 2.06-.94-2.06-.94-.94-2.06-.94 2.06-2.06.94z\"/><path d=\"M17.41 7.96l-1.37-1.37c-.4-.4-.92-.59-1.43-.59-.52 0-1.04.2-1.43.59L10.3 9.45l-7.72 7.72c-.78.78-.78 2.05 0 2.83L4 21.41c.39.39.9.59 1.41.59.51 0 1.02-.2 1.41-.59l7.78-7.78 2.81-2.81c.8-.78.8-2.07 0-2.86zM5.41 20L4 18.59l7.72-7.72 1.47 1.35L5.41 20z\"/>\n",
              "  </svg>\n",
              "      </button>\n",
              "      \n",
              "  <style>\n",
              "    .colab-df-container {\n",
              "      display:flex;\n",
              "      flex-wrap:wrap;\n",
              "      gap: 12px;\n",
              "    }\n",
              "\n",
              "    .colab-df-convert {\n",
              "      background-color: #E8F0FE;\n",
              "      border: none;\n",
              "      border-radius: 50%;\n",
              "      cursor: pointer;\n",
              "      display: none;\n",
              "      fill: #1967D2;\n",
              "      height: 32px;\n",
              "      padding: 0 0 0 0;\n",
              "      width: 32px;\n",
              "    }\n",
              "\n",
              "    .colab-df-convert:hover {\n",
              "      background-color: #E2EBFA;\n",
              "      box-shadow: 0px 1px 2px rgba(60, 64, 67, 0.3), 0px 1px 3px 1px rgba(60, 64, 67, 0.15);\n",
              "      fill: #174EA6;\n",
              "    }\n",
              "\n",
              "    [theme=dark] .colab-df-convert {\n",
              "      background-color: #3B4455;\n",
              "      fill: #D2E3FC;\n",
              "    }\n",
              "\n",
              "    [theme=dark] .colab-df-convert:hover {\n",
              "      background-color: #434B5C;\n",
              "      box-shadow: 0px 1px 3px 1px rgba(0, 0, 0, 0.15);\n",
              "      filter: drop-shadow(0px 1px 2px rgba(0, 0, 0, 0.3));\n",
              "      fill: #FFFFFF;\n",
              "    }\n",
              "  </style>\n",
              "\n",
              "      <script>\n",
              "        const buttonEl =\n",
              "          document.querySelector('#df-ef277444-e420-4317-975d-c58e9283d028 button.colab-df-convert');\n",
              "        buttonEl.style.display =\n",
              "          google.colab.kernel.accessAllowed ? 'block' : 'none';\n",
              "\n",
              "        async function convertToInteractive(key) {\n",
              "          const element = document.querySelector('#df-ef277444-e420-4317-975d-c58e9283d028');\n",
              "          const dataTable =\n",
              "            await google.colab.kernel.invokeFunction('convertToInteractive',\n",
              "                                                     [key], {});\n",
              "          if (!dataTable) return;\n",
              "\n",
              "          const docLinkHtml = 'Like what you see? Visit the ' +\n",
              "            '<a target=\"_blank\" href=https://colab.research.google.com/notebooks/data_table.ipynb>data table notebook</a>'\n",
              "            + ' to learn more about interactive tables.';\n",
              "          element.innerHTML = '';\n",
              "          dataTable['output_type'] = 'display_data';\n",
              "          await google.colab.output.renderOutput(dataTable, element);\n",
              "          const docLink = document.createElement('div');\n",
              "          docLink.innerHTML = docLinkHtml;\n",
              "          element.appendChild(docLink);\n",
              "        }\n",
              "      </script>\n",
              "    </div>\n",
              "  </div>\n",
              "  "
            ]
          },
          "metadata": {},
          "execution_count": 7
        }
      ]
    },
    {
      "cell_type": "code",
      "source": [
        "#untuk melihat type data apakah berupa integer, bilangan desimal, atau data kategori\n",
        "data.dtypes"
      ],
      "metadata": {
        "colab": {
          "base_uri": "https://localhost:8080/"
        },
        "id": "ho76VjsoLip_",
        "outputId": "380c27e2-60ed-4717-856b-f3fc14eab06e"
      },
      "execution_count": 8,
      "outputs": [
        {
          "output_type": "execute_result",
          "data": {
            "text/plain": [
              "Unnamed: 0                 int64\n",
              "IDENTITAS                  int64\n",
              "UMUR                      object\n",
              "JENIS_KELAMIN             object\n",
              "PENGALAMAN_MENGEMUDI      object\n",
              "PENDIDIKAN                object\n",
              "PENGHASILAN               object\n",
              "SKOR_KREDIT              float64\n",
              "PEMILIK_KENDARAAN         object\n",
              "TAHUN_PRODUKSI            object\n",
              "STATUS                    object\n",
              "ANAK                      object\n",
              "KODE_POS                   int64\n",
              "KM_PER_TAHUN             float64\n",
              "JENIS_KENDARAAN           object\n",
              "TILANG_NGEBUT              int64\n",
              "TILANG_MABUK               int64\n",
              "KECELAKAAN_SEBELUMNYA      int64\n",
              "KLAIM                     object\n",
              "dtype: object"
            ]
          },
          "metadata": {},
          "execution_count": 8
        }
      ]
    },
    {
      "cell_type": "code",
      "source": [
        "#untuk mengecek apakah terdapat data yang kosong\n",
        "data.isnull().sum()"
      ],
      "metadata": {
        "colab": {
          "base_uri": "https://localhost:8080/"
        },
        "id": "UwwayRG7L1tQ",
        "outputId": "568da8c4-9165-4111-c66e-b5a5a535742a"
      },
      "execution_count": 9,
      "outputs": [
        {
          "output_type": "execute_result",
          "data": {
            "text/plain": [
              "Unnamed: 0                 0\n",
              "IDENTITAS                  0\n",
              "UMUR                       0\n",
              "JENIS_KELAMIN              0\n",
              "PENGALAMAN_MENGEMUDI       0\n",
              "PENDIDIKAN                 0\n",
              "PENGHASILAN                0\n",
              "SKOR_KREDIT              982\n",
              "PEMILIK_KENDARAAN          0\n",
              "TAHUN_PRODUKSI             0\n",
              "STATUS                     0\n",
              "ANAK                       0\n",
              "KODE_POS                   0\n",
              "KM_PER_TAHUN             957\n",
              "JENIS_KENDARAAN            0\n",
              "TILANG_NGEBUT              0\n",
              "TILANG_MABUK               0\n",
              "KECELAKAAN_SEBELUMNYA      0\n",
              "KLAIM                      0\n",
              "dtype: int64"
            ]
          },
          "metadata": {},
          "execution_count": 9
        }
      ]
    },
    {
      "cell_type": "code",
      "source": [
        "data_categorical =['SKOR_KREDIT', 'KM_PER_TAHUN']"
      ],
      "metadata": {
        "id": "Or__IsoUQgaQ"
      },
      "execution_count": 15,
      "outputs": []
    },
    {
      "cell_type": "code",
      "source": [
        "data_drop = data.drop(data_categorical,axis=1)"
      ],
      "metadata": {
        "id": "G63Wyw_mQunS"
      },
      "execution_count": 16,
      "outputs": []
    },
    {
      "cell_type": "code",
      "source": [
        "data_drop.head()"
      ],
      "metadata": {
        "colab": {
          "base_uri": "https://localhost:8080/",
          "height": 461
        },
        "id": "StuPX3o9Q1oR",
        "outputId": "b324ac88-0c66-41fb-832b-7ff320950f81"
      },
      "execution_count": 17,
      "outputs": [
        {
          "output_type": "execute_result",
          "data": {
            "text/plain": [
              "   Unnamed: 0  IDENTITAS                  UMUR JENIS_KELAMIN  \\\n",
              "0           0     569520   lebih dari 65 tahun     perempuan   \n",
              "1           1     750365  kurang dari 25 tahun     laki-laki   \n",
              "2           2     199901  kurang dari 25 tahun     perempuan   \n",
              "3           3     478866  kurang dari 25 tahun     laki-laki   \n",
              "4           4     731664    antara 25-40 tahun     laki-laki   \n",
              "\n",
              "   PENGALAMAN_MENGEMUDI   PENDIDIKAN        PENGHASILAN PEMILIK_KENDARAAN  \\\n",
              "0  kurang dari 10 tahun          SMA  lebih dari 3x UMR                ya   \n",
              "1  kurang dari 10 tahun    tidak ada    kurang dari UMR             tidak   \n",
              "2  kurang dari 10 tahun          SMA    antara 1-2x UMR                ya   \n",
              "3  kurang dari 10 tahun  universitas    antara 1-2x UMR                ya   \n",
              "4    antara 10-20 tahun    tidak ada    antara 1-2x UMR                ya   \n",
              "\n",
              "  TAHUN_PRODUKSI         STATUS       ANAK  KODE_POS JENIS_KENDARAAN  \\\n",
              "0   setelah 2020  belum menikah        ada     10238        keluarga   \n",
              "1   sebelum 2020  belum menikah  tidak ada     10238        keluarga   \n",
              "2   sebelum 2020  belum menikah  tidak ada     10238        keluarga   \n",
              "3   sebelum 2020  belum menikah        ada     32765        keluarga   \n",
              "4   sebelum 2020  belum menikah  tidak ada     32765        keluarga   \n",
              "\n",
              "   TILANG_NGEBUT  TILANG_MABUK  KECELAKAAN_SEBELUMNYA  KLAIM  \n",
              "0              0             0                      0  tidak  \n",
              "1              0             0                      0     ya  \n",
              "2              0             0                      0  tidak  \n",
              "3              0             0                      0  tidak  \n",
              "4              2             0                      1     ya  "
            ],
            "text/html": [
              "\n",
              "  <div id=\"df-574e29bb-e968-4382-9e34-b80c203450ae\">\n",
              "    <div class=\"colab-df-container\">\n",
              "      <div>\n",
              "<style scoped>\n",
              "    .dataframe tbody tr th:only-of-type {\n",
              "        vertical-align: middle;\n",
              "    }\n",
              "\n",
              "    .dataframe tbody tr th {\n",
              "        vertical-align: top;\n",
              "    }\n",
              "\n",
              "    .dataframe thead th {\n",
              "        text-align: right;\n",
              "    }\n",
              "</style>\n",
              "<table border=\"1\" class=\"dataframe\">\n",
              "  <thead>\n",
              "    <tr style=\"text-align: right;\">\n",
              "      <th></th>\n",
              "      <th>Unnamed: 0</th>\n",
              "      <th>IDENTITAS</th>\n",
              "      <th>UMUR</th>\n",
              "      <th>JENIS_KELAMIN</th>\n",
              "      <th>PENGALAMAN_MENGEMUDI</th>\n",
              "      <th>PENDIDIKAN</th>\n",
              "      <th>PENGHASILAN</th>\n",
              "      <th>PEMILIK_KENDARAAN</th>\n",
              "      <th>TAHUN_PRODUKSI</th>\n",
              "      <th>STATUS</th>\n",
              "      <th>ANAK</th>\n",
              "      <th>KODE_POS</th>\n",
              "      <th>JENIS_KENDARAAN</th>\n",
              "      <th>TILANG_NGEBUT</th>\n",
              "      <th>TILANG_MABUK</th>\n",
              "      <th>KECELAKAAN_SEBELUMNYA</th>\n",
              "      <th>KLAIM</th>\n",
              "    </tr>\n",
              "  </thead>\n",
              "  <tbody>\n",
              "    <tr>\n",
              "      <th>0</th>\n",
              "      <td>0</td>\n",
              "      <td>569520</td>\n",
              "      <td>lebih dari 65 tahun</td>\n",
              "      <td>perempuan</td>\n",
              "      <td>kurang dari 10 tahun</td>\n",
              "      <td>SMA</td>\n",
              "      <td>lebih dari 3x UMR</td>\n",
              "      <td>ya</td>\n",
              "      <td>setelah 2020</td>\n",
              "      <td>belum menikah</td>\n",
              "      <td>ada</td>\n",
              "      <td>10238</td>\n",
              "      <td>keluarga</td>\n",
              "      <td>0</td>\n",
              "      <td>0</td>\n",
              "      <td>0</td>\n",
              "      <td>tidak</td>\n",
              "    </tr>\n",
              "    <tr>\n",
              "      <th>1</th>\n",
              "      <td>1</td>\n",
              "      <td>750365</td>\n",
              "      <td>kurang dari 25 tahun</td>\n",
              "      <td>laki-laki</td>\n",
              "      <td>kurang dari 10 tahun</td>\n",
              "      <td>tidak ada</td>\n",
              "      <td>kurang dari UMR</td>\n",
              "      <td>tidak</td>\n",
              "      <td>sebelum 2020</td>\n",
              "      <td>belum menikah</td>\n",
              "      <td>tidak ada</td>\n",
              "      <td>10238</td>\n",
              "      <td>keluarga</td>\n",
              "      <td>0</td>\n",
              "      <td>0</td>\n",
              "      <td>0</td>\n",
              "      <td>ya</td>\n",
              "    </tr>\n",
              "    <tr>\n",
              "      <th>2</th>\n",
              "      <td>2</td>\n",
              "      <td>199901</td>\n",
              "      <td>kurang dari 25 tahun</td>\n",
              "      <td>perempuan</td>\n",
              "      <td>kurang dari 10 tahun</td>\n",
              "      <td>SMA</td>\n",
              "      <td>antara 1-2x UMR</td>\n",
              "      <td>ya</td>\n",
              "      <td>sebelum 2020</td>\n",
              "      <td>belum menikah</td>\n",
              "      <td>tidak ada</td>\n",
              "      <td>10238</td>\n",
              "      <td>keluarga</td>\n",
              "      <td>0</td>\n",
              "      <td>0</td>\n",
              "      <td>0</td>\n",
              "      <td>tidak</td>\n",
              "    </tr>\n",
              "    <tr>\n",
              "      <th>3</th>\n",
              "      <td>3</td>\n",
              "      <td>478866</td>\n",
              "      <td>kurang dari 25 tahun</td>\n",
              "      <td>laki-laki</td>\n",
              "      <td>kurang dari 10 tahun</td>\n",
              "      <td>universitas</td>\n",
              "      <td>antara 1-2x UMR</td>\n",
              "      <td>ya</td>\n",
              "      <td>sebelum 2020</td>\n",
              "      <td>belum menikah</td>\n",
              "      <td>ada</td>\n",
              "      <td>32765</td>\n",
              "      <td>keluarga</td>\n",
              "      <td>0</td>\n",
              "      <td>0</td>\n",
              "      <td>0</td>\n",
              "      <td>tidak</td>\n",
              "    </tr>\n",
              "    <tr>\n",
              "      <th>4</th>\n",
              "      <td>4</td>\n",
              "      <td>731664</td>\n",
              "      <td>antara 25-40 tahun</td>\n",
              "      <td>laki-laki</td>\n",
              "      <td>antara 10-20 tahun</td>\n",
              "      <td>tidak ada</td>\n",
              "      <td>antara 1-2x UMR</td>\n",
              "      <td>ya</td>\n",
              "      <td>sebelum 2020</td>\n",
              "      <td>belum menikah</td>\n",
              "      <td>tidak ada</td>\n",
              "      <td>32765</td>\n",
              "      <td>keluarga</td>\n",
              "      <td>2</td>\n",
              "      <td>0</td>\n",
              "      <td>1</td>\n",
              "      <td>ya</td>\n",
              "    </tr>\n",
              "  </tbody>\n",
              "</table>\n",
              "</div>\n",
              "      <button class=\"colab-df-convert\" onclick=\"convertToInteractive('df-574e29bb-e968-4382-9e34-b80c203450ae')\"\n",
              "              title=\"Convert this dataframe to an interactive table.\"\n",
              "              style=\"display:none;\">\n",
              "        \n",
              "  <svg xmlns=\"http://www.w3.org/2000/svg\" height=\"24px\"viewBox=\"0 0 24 24\"\n",
              "       width=\"24px\">\n",
              "    <path d=\"M0 0h24v24H0V0z\" fill=\"none\"/>\n",
              "    <path d=\"M18.56 5.44l.94 2.06.94-2.06 2.06-.94-2.06-.94-.94-2.06-.94 2.06-2.06.94zm-11 1L8.5 8.5l.94-2.06 2.06-.94-2.06-.94L8.5 2.5l-.94 2.06-2.06.94zm10 10l.94 2.06.94-2.06 2.06-.94-2.06-.94-.94-2.06-.94 2.06-2.06.94z\"/><path d=\"M17.41 7.96l-1.37-1.37c-.4-.4-.92-.59-1.43-.59-.52 0-1.04.2-1.43.59L10.3 9.45l-7.72 7.72c-.78.78-.78 2.05 0 2.83L4 21.41c.39.39.9.59 1.41.59.51 0 1.02-.2 1.41-.59l7.78-7.78 2.81-2.81c.8-.78.8-2.07 0-2.86zM5.41 20L4 18.59l7.72-7.72 1.47 1.35L5.41 20z\"/>\n",
              "  </svg>\n",
              "      </button>\n",
              "      \n",
              "  <style>\n",
              "    .colab-df-container {\n",
              "      display:flex;\n",
              "      flex-wrap:wrap;\n",
              "      gap: 12px;\n",
              "    }\n",
              "\n",
              "    .colab-df-convert {\n",
              "      background-color: #E8F0FE;\n",
              "      border: none;\n",
              "      border-radius: 50%;\n",
              "      cursor: pointer;\n",
              "      display: none;\n",
              "      fill: #1967D2;\n",
              "      height: 32px;\n",
              "      padding: 0 0 0 0;\n",
              "      width: 32px;\n",
              "    }\n",
              "\n",
              "    .colab-df-convert:hover {\n",
              "      background-color: #E2EBFA;\n",
              "      box-shadow: 0px 1px 2px rgba(60, 64, 67, 0.3), 0px 1px 3px 1px rgba(60, 64, 67, 0.15);\n",
              "      fill: #174EA6;\n",
              "    }\n",
              "\n",
              "    [theme=dark] .colab-df-convert {\n",
              "      background-color: #3B4455;\n",
              "      fill: #D2E3FC;\n",
              "    }\n",
              "\n",
              "    [theme=dark] .colab-df-convert:hover {\n",
              "      background-color: #434B5C;\n",
              "      box-shadow: 0px 1px 3px 1px rgba(0, 0, 0, 0.15);\n",
              "      filter: drop-shadow(0px 1px 2px rgba(0, 0, 0, 0.3));\n",
              "      fill: #FFFFFF;\n",
              "    }\n",
              "  </style>\n",
              "\n",
              "      <script>\n",
              "        const buttonEl =\n",
              "          document.querySelector('#df-574e29bb-e968-4382-9e34-b80c203450ae button.colab-df-convert');\n",
              "        buttonEl.style.display =\n",
              "          google.colab.kernel.accessAllowed ? 'block' : 'none';\n",
              "\n",
              "        async function convertToInteractive(key) {\n",
              "          const element = document.querySelector('#df-574e29bb-e968-4382-9e34-b80c203450ae');\n",
              "          const dataTable =\n",
              "            await google.colab.kernel.invokeFunction('convertToInteractive',\n",
              "                                                     [key], {});\n",
              "          if (!dataTable) return;\n",
              "\n",
              "          const docLinkHtml = 'Like what you see? Visit the ' +\n",
              "            '<a target=\"_blank\" href=https://colab.research.google.com/notebooks/data_table.ipynb>data table notebook</a>'\n",
              "            + ' to learn more about interactive tables.';\n",
              "          element.innerHTML = '';\n",
              "          dataTable['output_type'] = 'display_data';\n",
              "          await google.colab.output.renderOutput(dataTable, element);\n",
              "          const docLink = document.createElement('div');\n",
              "          docLink.innerHTML = docLinkHtml;\n",
              "          element.appendChild(docLink);\n",
              "        }\n",
              "      </script>\n",
              "    </div>\n",
              "  </div>\n",
              "  "
            ]
          },
          "metadata": {},
          "execution_count": 17
        }
      ]
    },
    {
      "cell_type": "code",
      "source": [
        "#mengubah data categorical yakni skor kredit dan km per tahun menjadi 0\n",
        "data_drop.isnull().sum()"
      ],
      "metadata": {
        "colab": {
          "base_uri": "https://localhost:8080/"
        },
        "id": "k0fU5nSORBqI",
        "outputId": "96371ba8-c7d5-49b1-96bf-817309530ce4"
      },
      "execution_count": 18,
      "outputs": [
        {
          "output_type": "execute_result",
          "data": {
            "text/plain": [
              "Unnamed: 0               0\n",
              "IDENTITAS                0\n",
              "UMUR                     0\n",
              "JENIS_KELAMIN            0\n",
              "PENGALAMAN_MENGEMUDI     0\n",
              "PENDIDIKAN               0\n",
              "PENGHASILAN              0\n",
              "PEMILIK_KENDARAAN        0\n",
              "TAHUN_PRODUKSI           0\n",
              "STATUS                   0\n",
              "ANAK                     0\n",
              "KODE_POS                 0\n",
              "JENIS_KENDARAAN          0\n",
              "TILANG_NGEBUT            0\n",
              "TILANG_MABUK             0\n",
              "KECELAKAAN_SEBELUMNYA    0\n",
              "KLAIM                    0\n",
              "dtype: int64"
            ]
          },
          "metadata": {},
          "execution_count": 18
        }
      ]
    },
    {
      "cell_type": "code",
      "source": [
        "#untuk melihat apa saja isi dari kolom UMUR (merupakan data yang dapat dibandingkan)\n",
        "data.UMUR.unique()"
      ],
      "metadata": {
        "colab": {
          "base_uri": "https://localhost:8080/"
        },
        "id": "mfsbjoJmMJtE",
        "outputId": "3a5a4204-c344-4ca0-899c-a9e8cf5d5ac4"
      },
      "execution_count": 10,
      "outputs": [
        {
          "output_type": "execute_result",
          "data": {
            "text/plain": [
              "array(['lebih dari 65 tahun', 'kurang dari 25 tahun',\n",
              "       'antara 25-40 tahun', 'antara 40-65 tahun'], dtype=object)"
            ]
          },
          "metadata": {},
          "execution_count": 10
        }
      ]
    },
    {
      "cell_type": "code",
      "source": [
        "#untuk melihat apa saja isi dari kolom  (merupakan data yang tidak dapat dibandingkan)\n",
        "data.JENIS_KELAMIN.unique()"
      ],
      "metadata": {
        "colab": {
          "base_uri": "https://localhost:8080/"
        },
        "id": "0kddpcnjNSxr",
        "outputId": "59332dc4-7fab-4387-a32b-030f534fe6bd"
      },
      "execution_count": 12,
      "outputs": [
        {
          "output_type": "execute_result",
          "data": {
            "text/plain": [
              "array(['perempuan', 'laki-laki'], dtype=object)"
            ]
          },
          "metadata": {},
          "execution_count": 12
        }
      ]
    },
    {
      "cell_type": "code",
      "source": [
        "data['JENIS_KELAMIN'] = \\\n",
        "data['JENIS_KELAMIN'].map({'perempuan':0,'laki-laki':1})"
      ],
      "metadata": {
        "id": "pJZPBUFPW8ZR"
      },
      "execution_count": 32,
      "outputs": []
    },
    {
      "cell_type": "code",
      "source": [
        "#untuk melihat apa saja isi dari kolom PENGALAMAN_MENGEMUDI (merupakan data yang dapat dibandingkan)\n",
        "data.PENGALAMAN_MENGEMUDI.unique()"
      ],
      "metadata": {
        "colab": {
          "base_uri": "https://localhost:8080/"
        },
        "id": "PO9_BLBKOG3z",
        "outputId": "90e6d7d5-9b49-45af-dfd1-6e75df8fdf19"
      },
      "execution_count": 13,
      "outputs": [
        {
          "output_type": "execute_result",
          "data": {
            "text/plain": [
              "array(['kurang dari 10 tahun', 'antara 10-20 tahun', 'antara 20-30 tahun',\n",
              "       'lebih dari 30 tahun'], dtype=object)"
            ]
          },
          "metadata": {},
          "execution_count": 13
        }
      ]
    },
    {
      "cell_type": "code",
      "source": [
        "#untuk melihat apa saja isi dari kolom PENDIDIKAN (merupakan data yang dapat dibandingkan)\n",
        "data.PENDIDIKAN.unique()"
      ],
      "metadata": {
        "colab": {
          "base_uri": "https://localhost:8080/"
        },
        "id": "_ciPEN6lOUIC",
        "outputId": "11d01f7c-b280-43f7-b65b-53905e5b1c0d"
      },
      "execution_count": 14,
      "outputs": [
        {
          "output_type": "execute_result",
          "data": {
            "text/plain": [
              "array(['SMA', 'tidak ada', 'universitas'], dtype=object)"
            ]
          },
          "metadata": {},
          "execution_count": 14
        }
      ]
    },
    {
      "cell_type": "code",
      "source": [
        "# Melakukan mapping dari Pendidikan karena walaupun pendidikan merupakan data kategori, akan tetapi\n",
        "# terdapat peningkatan dari SD, SMP, SMA, Diploma dan Universitas.\n",
        "data['PENDIDIKAN'] = \\\n",
        "data['PENDIDIKAN'].map({'universitas':2,'SMA':1,'tidak ada':0})"
      ],
      "metadata": {
        "id": "eNKa9PnAPemR"
      },
      "execution_count": 21,
      "outputs": []
    },
    {
      "cell_type": "code",
      "source": [
        "#untuk melihat apa saja isi dari kolom PENGHASILAN (merupakan data yang dapat dibandingkan)\n",
        "data.PENGHASILAN.unique()"
      ],
      "metadata": {
        "colab": {
          "base_uri": "https://localhost:8080/"
        },
        "id": "YBJGZVGATmii",
        "outputId": "1ac9d433-bcf0-44f8-bb5d-834b675c0c9d"
      },
      "execution_count": 22,
      "outputs": [
        {
          "output_type": "execute_result",
          "data": {
            "text/plain": [
              "array(['lebih dari 3x UMR', 'kurang dari UMR', 'antara 1-2x UMR',\n",
              "       'antara 2-3x UMR'], dtype=object)"
            ]
          },
          "metadata": {},
          "execution_count": 22
        }
      ]
    },
    {
      "cell_type": "code",
      "source": [
        "#data kategori biner (karena hanya terdapat dua pilihan)\n",
        "data.PEMILIK_KENDARAAN.unique()"
      ],
      "metadata": {
        "colab": {
          "base_uri": "https://localhost:8080/"
        },
        "id": "AfrOdi2VUX5I",
        "outputId": "a311bc36-59c5-41de-e35b-b1710b1999da"
      },
      "execution_count": 24,
      "outputs": [
        {
          "output_type": "execute_result",
          "data": {
            "text/plain": [
              "array(['ya', 'tidak'], dtype=object)"
            ]
          },
          "metadata": {},
          "execution_count": 24
        }
      ]
    },
    {
      "cell_type": "code",
      "source": [
        "data['PEMILIK_KENDARAAN'] = \\\n",
        "data['PEMILIK_KENDARAAN'].map({'tidak':0,'ya':1})"
      ],
      "metadata": {
        "id": "lpJmjLOAUsAj"
      },
      "execution_count": 25,
      "outputs": []
    },
    {
      "cell_type": "code",
      "source": [
        "#data kategori biner (karena hanya terdapat dua pilihan)\n",
        "data.TAHUN_PRODUKSI.unique()"
      ],
      "metadata": {
        "colab": {
          "base_uri": "https://localhost:8080/"
        },
        "id": "tskKLb9XVX4s",
        "outputId": "c03c5254-40b2-420e-fd21-4c9e384eaf19"
      },
      "execution_count": 26,
      "outputs": [
        {
          "output_type": "execute_result",
          "data": {
            "text/plain": [
              "array(['setelah 2020', 'sebelum 2020'], dtype=object)"
            ]
          },
          "metadata": {},
          "execution_count": 26
        }
      ]
    },
    {
      "cell_type": "code",
      "source": [
        "data['TAHUN_PRODUKSI'] = \\\n",
        "data['TAHUN_PRODUKSI'].map({'sebelum 2020':0,'setelah 2020':1})"
      ],
      "metadata": {
        "id": "6ClM2V2EVwBK"
      },
      "execution_count": 27,
      "outputs": []
    },
    {
      "cell_type": "code",
      "source": [
        "#data kategori biner (karena hanya terdapat dua pilihan)\n",
        "data.STATUS.unique()"
      ],
      "metadata": {
        "colab": {
          "base_uri": "https://localhost:8080/"
        },
        "id": "maCXIlbrWJOB",
        "outputId": "8a611852-a0aa-4eb4-b280-9c08214b7ed4"
      },
      "execution_count": 28,
      "outputs": [
        {
          "output_type": "execute_result",
          "data": {
            "text/plain": [
              "array(['belum menikah', 'menikah'], dtype=object)"
            ]
          },
          "metadata": {},
          "execution_count": 28
        }
      ]
    },
    {
      "cell_type": "code",
      "source": [
        "data['STATUS'] = \\\n",
        "data['STATUS'].map({'belum menikah':0,'menikah':1})"
      ],
      "metadata": {
        "id": "_RiJ5SzqWQK5"
      },
      "execution_count": 29,
      "outputs": []
    },
    {
      "cell_type": "code",
      "source": [
        "#data kategori biner (karena hanya terdapat dua pilihan)\n",
        "data.ANAK.unique()"
      ],
      "metadata": {
        "colab": {
          "base_uri": "https://localhost:8080/"
        },
        "id": "1fhaPCshWhcb",
        "outputId": "a0639362-d2c8-4d47-dc8d-28773cd98a15"
      },
      "execution_count": 30,
      "outputs": [
        {
          "output_type": "execute_result",
          "data": {
            "text/plain": [
              "array(['ada', 'tidak ada'], dtype=object)"
            ]
          },
          "metadata": {},
          "execution_count": 30
        }
      ]
    },
    {
      "cell_type": "code",
      "source": [
        "data['ANAK'] = \\\n",
        "data['ANAK'].map({'tidak ada':0,'ada':1})"
      ],
      "metadata": {
        "id": "ZtZJyNvOWs6Y"
      },
      "execution_count": 31,
      "outputs": []
    },
    {
      "cell_type": "code",
      "source": [
        "#data kategori biner (karena hanya terdapat dua pilihan)\n",
        "data.JENIS_KENDARAAN.unique()"
      ],
      "metadata": {
        "colab": {
          "base_uri": "https://localhost:8080/"
        },
        "id": "o1cPmkBjW1us",
        "outputId": "8a9ee1cf-fe9a-4520-d6a9-1cf03294dae3"
      },
      "execution_count": 33,
      "outputs": [
        {
          "output_type": "execute_result",
          "data": {
            "text/plain": [
              "array(['keluarga', 'sport'], dtype=object)"
            ]
          },
          "metadata": {},
          "execution_count": 33
        }
      ]
    },
    {
      "cell_type": "code",
      "source": [
        "data['JENIS_KENDARAAN'] = \\\n",
        "data['JENIS_KENDARAAN'].map({'keluarga':0,'sport':1})"
      ],
      "metadata": {
        "id": "xIPS3gLwXRoT"
      },
      "execution_count": 34,
      "outputs": []
    },
    {
      "cell_type": "code",
      "source": [
        "#data kategori biner (karena hanya terdapat dua pilihan)\n",
        "data.KLAIM.unique()"
      ],
      "metadata": {
        "colab": {
          "base_uri": "https://localhost:8080/"
        },
        "id": "k4m92nSJXbTQ",
        "outputId": "f492fbdf-315e-4a0b-89b7-c943a8b56f0e"
      },
      "execution_count": 35,
      "outputs": [
        {
          "output_type": "execute_result",
          "data": {
            "text/plain": [
              "array(['tidak', 'ya'], dtype=object)"
            ]
          },
          "metadata": {},
          "execution_count": 35
        }
      ]
    },
    {
      "cell_type": "code",
      "source": [
        "data['KLAIM'] = \\\n",
        "data['KLAIM'].map({'tidak':0,'ya':1})"
      ],
      "metadata": {
        "id": "RCKbkQ96Xgek"
      },
      "execution_count": 36,
      "outputs": []
    },
    {
      "cell_type": "code",
      "source": [
        "data.describe()"
      ],
      "metadata": {
        "colab": {
          "base_uri": "https://localhost:8080/",
          "height": 364
        },
        "id": "mBkrzHM8Xq6R",
        "outputId": "6db18f43-18ee-4b22-8581-2809c23ff36a"
      },
      "execution_count": 37,
      "outputs": [
        {
          "output_type": "execute_result",
          "data": {
            "text/plain": [
              "        Unnamed: 0      IDENTITAS  JENIS_KELAMIN   PENDIDIKAN  SKOR_KREDIT  \\\n",
              "count  10000.00000   10000.000000   10000.000000  10000.00000  9018.000000   \n",
              "mean    4999.50000  500521.906800       0.499000      1.20130     0.515813   \n",
              "std     2886.89568  290030.768758       0.500024      0.73745     0.137688   \n",
              "min        0.00000     101.000000       0.000000      0.00000     0.053358   \n",
              "25%     2499.75000  249638.500000       0.000000      1.00000     0.417191   \n",
              "50%     4999.50000  501777.000000       0.000000      1.00000     0.525033   \n",
              "75%     7499.25000  753974.500000       1.000000      2.00000     0.618312   \n",
              "max     9999.00000  999976.000000       1.000000      2.00000     0.960819   \n",
              "\n",
              "       PEMILIK_KENDARAAN  TAHUN_PRODUKSI          ANAK      KODE_POS  \\\n",
              "count       10000.000000             0.0  10000.000000  10000.000000   \n",
              "mean            0.697000             NaN      0.688800  19864.548400   \n",
              "std             0.459578             NaN      0.463008  18915.613855   \n",
              "min             0.000000             NaN      0.000000  10238.000000   \n",
              "25%             0.000000             NaN      0.000000  10238.000000   \n",
              "50%             1.000000             NaN      1.000000  10238.000000   \n",
              "75%             1.000000             NaN      1.000000  32765.000000   \n",
              "max             1.000000             NaN      1.000000  92101.000000   \n",
              "\n",
              "       KM_PER_TAHUN  JENIS_KENDARAAN  TILANG_NGEBUT  TILANG_MABUK  \\\n",
              "count   9043.000000     10000.000000   10000.000000   10000.00000   \n",
              "mean   11697.003207         0.047700       1.482900       0.23920   \n",
              "std     2818.434528         0.213141       2.241966       0.55499   \n",
              "min     2000.000000         0.000000       0.000000       0.00000   \n",
              "25%    10000.000000         0.000000       0.000000       0.00000   \n",
              "50%    12000.000000         0.000000       0.000000       0.00000   \n",
              "75%    14000.000000         0.000000       2.000000       0.00000   \n",
              "max    22000.000000         1.000000      22.000000       6.00000   \n",
              "\n",
              "       KECELAKAAN_SEBELUMNYA         KLAIM  \n",
              "count           10000.000000  10000.000000  \n",
              "mean                1.056300      0.313300  \n",
              "std                 1.652454      0.463858  \n",
              "min                 0.000000      0.000000  \n",
              "25%                 0.000000      0.000000  \n",
              "50%                 0.000000      0.000000  \n",
              "75%                 2.000000      1.000000  \n",
              "max                15.000000      1.000000  "
            ],
            "text/html": [
              "\n",
              "  <div id=\"df-989b6bd2-84fa-428f-af55-a8d3ff2446cb\">\n",
              "    <div class=\"colab-df-container\">\n",
              "      <div>\n",
              "<style scoped>\n",
              "    .dataframe tbody tr th:only-of-type {\n",
              "        vertical-align: middle;\n",
              "    }\n",
              "\n",
              "    .dataframe tbody tr th {\n",
              "        vertical-align: top;\n",
              "    }\n",
              "\n",
              "    .dataframe thead th {\n",
              "        text-align: right;\n",
              "    }\n",
              "</style>\n",
              "<table border=\"1\" class=\"dataframe\">\n",
              "  <thead>\n",
              "    <tr style=\"text-align: right;\">\n",
              "      <th></th>\n",
              "      <th>Unnamed: 0</th>\n",
              "      <th>IDENTITAS</th>\n",
              "      <th>JENIS_KELAMIN</th>\n",
              "      <th>PENDIDIKAN</th>\n",
              "      <th>SKOR_KREDIT</th>\n",
              "      <th>PEMILIK_KENDARAAN</th>\n",
              "      <th>TAHUN_PRODUKSI</th>\n",
              "      <th>ANAK</th>\n",
              "      <th>KODE_POS</th>\n",
              "      <th>KM_PER_TAHUN</th>\n",
              "      <th>JENIS_KENDARAAN</th>\n",
              "      <th>TILANG_NGEBUT</th>\n",
              "      <th>TILANG_MABUK</th>\n",
              "      <th>KECELAKAAN_SEBELUMNYA</th>\n",
              "      <th>KLAIM</th>\n",
              "    </tr>\n",
              "  </thead>\n",
              "  <tbody>\n",
              "    <tr>\n",
              "      <th>count</th>\n",
              "      <td>10000.00000</td>\n",
              "      <td>10000.000000</td>\n",
              "      <td>10000.000000</td>\n",
              "      <td>10000.00000</td>\n",
              "      <td>9018.000000</td>\n",
              "      <td>10000.000000</td>\n",
              "      <td>0.0</td>\n",
              "      <td>10000.000000</td>\n",
              "      <td>10000.000000</td>\n",
              "      <td>9043.000000</td>\n",
              "      <td>10000.000000</td>\n",
              "      <td>10000.000000</td>\n",
              "      <td>10000.00000</td>\n",
              "      <td>10000.000000</td>\n",
              "      <td>10000.000000</td>\n",
              "    </tr>\n",
              "    <tr>\n",
              "      <th>mean</th>\n",
              "      <td>4999.50000</td>\n",
              "      <td>500521.906800</td>\n",
              "      <td>0.499000</td>\n",
              "      <td>1.20130</td>\n",
              "      <td>0.515813</td>\n",
              "      <td>0.697000</td>\n",
              "      <td>NaN</td>\n",
              "      <td>0.688800</td>\n",
              "      <td>19864.548400</td>\n",
              "      <td>11697.003207</td>\n",
              "      <td>0.047700</td>\n",
              "      <td>1.482900</td>\n",
              "      <td>0.23920</td>\n",
              "      <td>1.056300</td>\n",
              "      <td>0.313300</td>\n",
              "    </tr>\n",
              "    <tr>\n",
              "      <th>std</th>\n",
              "      <td>2886.89568</td>\n",
              "      <td>290030.768758</td>\n",
              "      <td>0.500024</td>\n",
              "      <td>0.73745</td>\n",
              "      <td>0.137688</td>\n",
              "      <td>0.459578</td>\n",
              "      <td>NaN</td>\n",
              "      <td>0.463008</td>\n",
              "      <td>18915.613855</td>\n",
              "      <td>2818.434528</td>\n",
              "      <td>0.213141</td>\n",
              "      <td>2.241966</td>\n",
              "      <td>0.55499</td>\n",
              "      <td>1.652454</td>\n",
              "      <td>0.463858</td>\n",
              "    </tr>\n",
              "    <tr>\n",
              "      <th>min</th>\n",
              "      <td>0.00000</td>\n",
              "      <td>101.000000</td>\n",
              "      <td>0.000000</td>\n",
              "      <td>0.00000</td>\n",
              "      <td>0.053358</td>\n",
              "      <td>0.000000</td>\n",
              "      <td>NaN</td>\n",
              "      <td>0.000000</td>\n",
              "      <td>10238.000000</td>\n",
              "      <td>2000.000000</td>\n",
              "      <td>0.000000</td>\n",
              "      <td>0.000000</td>\n",
              "      <td>0.00000</td>\n",
              "      <td>0.000000</td>\n",
              "      <td>0.000000</td>\n",
              "    </tr>\n",
              "    <tr>\n",
              "      <th>25%</th>\n",
              "      <td>2499.75000</td>\n",
              "      <td>249638.500000</td>\n",
              "      <td>0.000000</td>\n",
              "      <td>1.00000</td>\n",
              "      <td>0.417191</td>\n",
              "      <td>0.000000</td>\n",
              "      <td>NaN</td>\n",
              "      <td>0.000000</td>\n",
              "      <td>10238.000000</td>\n",
              "      <td>10000.000000</td>\n",
              "      <td>0.000000</td>\n",
              "      <td>0.000000</td>\n",
              "      <td>0.00000</td>\n",
              "      <td>0.000000</td>\n",
              "      <td>0.000000</td>\n",
              "    </tr>\n",
              "    <tr>\n",
              "      <th>50%</th>\n",
              "      <td>4999.50000</td>\n",
              "      <td>501777.000000</td>\n",
              "      <td>0.000000</td>\n",
              "      <td>1.00000</td>\n",
              "      <td>0.525033</td>\n",
              "      <td>1.000000</td>\n",
              "      <td>NaN</td>\n",
              "      <td>1.000000</td>\n",
              "      <td>10238.000000</td>\n",
              "      <td>12000.000000</td>\n",
              "      <td>0.000000</td>\n",
              "      <td>0.000000</td>\n",
              "      <td>0.00000</td>\n",
              "      <td>0.000000</td>\n",
              "      <td>0.000000</td>\n",
              "    </tr>\n",
              "    <tr>\n",
              "      <th>75%</th>\n",
              "      <td>7499.25000</td>\n",
              "      <td>753974.500000</td>\n",
              "      <td>1.000000</td>\n",
              "      <td>2.00000</td>\n",
              "      <td>0.618312</td>\n",
              "      <td>1.000000</td>\n",
              "      <td>NaN</td>\n",
              "      <td>1.000000</td>\n",
              "      <td>32765.000000</td>\n",
              "      <td>14000.000000</td>\n",
              "      <td>0.000000</td>\n",
              "      <td>2.000000</td>\n",
              "      <td>0.00000</td>\n",
              "      <td>2.000000</td>\n",
              "      <td>1.000000</td>\n",
              "    </tr>\n",
              "    <tr>\n",
              "      <th>max</th>\n",
              "      <td>9999.00000</td>\n",
              "      <td>999976.000000</td>\n",
              "      <td>1.000000</td>\n",
              "      <td>2.00000</td>\n",
              "      <td>0.960819</td>\n",
              "      <td>1.000000</td>\n",
              "      <td>NaN</td>\n",
              "      <td>1.000000</td>\n",
              "      <td>92101.000000</td>\n",
              "      <td>22000.000000</td>\n",
              "      <td>1.000000</td>\n",
              "      <td>22.000000</td>\n",
              "      <td>6.00000</td>\n",
              "      <td>15.000000</td>\n",
              "      <td>1.000000</td>\n",
              "    </tr>\n",
              "  </tbody>\n",
              "</table>\n",
              "</div>\n",
              "      <button class=\"colab-df-convert\" onclick=\"convertToInteractive('df-989b6bd2-84fa-428f-af55-a8d3ff2446cb')\"\n",
              "              title=\"Convert this dataframe to an interactive table.\"\n",
              "              style=\"display:none;\">\n",
              "        \n",
              "  <svg xmlns=\"http://www.w3.org/2000/svg\" height=\"24px\"viewBox=\"0 0 24 24\"\n",
              "       width=\"24px\">\n",
              "    <path d=\"M0 0h24v24H0V0z\" fill=\"none\"/>\n",
              "    <path d=\"M18.56 5.44l.94 2.06.94-2.06 2.06-.94-2.06-.94-.94-2.06-.94 2.06-2.06.94zm-11 1L8.5 8.5l.94-2.06 2.06-.94-2.06-.94L8.5 2.5l-.94 2.06-2.06.94zm10 10l.94 2.06.94-2.06 2.06-.94-2.06-.94-.94-2.06-.94 2.06-2.06.94z\"/><path d=\"M17.41 7.96l-1.37-1.37c-.4-.4-.92-.59-1.43-.59-.52 0-1.04.2-1.43.59L10.3 9.45l-7.72 7.72c-.78.78-.78 2.05 0 2.83L4 21.41c.39.39.9.59 1.41.59.51 0 1.02-.2 1.41-.59l7.78-7.78 2.81-2.81c.8-.78.8-2.07 0-2.86zM5.41 20L4 18.59l7.72-7.72 1.47 1.35L5.41 20z\"/>\n",
              "  </svg>\n",
              "      </button>\n",
              "      \n",
              "  <style>\n",
              "    .colab-df-container {\n",
              "      display:flex;\n",
              "      flex-wrap:wrap;\n",
              "      gap: 12px;\n",
              "    }\n",
              "\n",
              "    .colab-df-convert {\n",
              "      background-color: #E8F0FE;\n",
              "      border: none;\n",
              "      border-radius: 50%;\n",
              "      cursor: pointer;\n",
              "      display: none;\n",
              "      fill: #1967D2;\n",
              "      height: 32px;\n",
              "      padding: 0 0 0 0;\n",
              "      width: 32px;\n",
              "    }\n",
              "\n",
              "    .colab-df-convert:hover {\n",
              "      background-color: #E2EBFA;\n",
              "      box-shadow: 0px 1px 2px rgba(60, 64, 67, 0.3), 0px 1px 3px 1px rgba(60, 64, 67, 0.15);\n",
              "      fill: #174EA6;\n",
              "    }\n",
              "\n",
              "    [theme=dark] .colab-df-convert {\n",
              "      background-color: #3B4455;\n",
              "      fill: #D2E3FC;\n",
              "    }\n",
              "\n",
              "    [theme=dark] .colab-df-convert:hover {\n",
              "      background-color: #434B5C;\n",
              "      box-shadow: 0px 1px 3px 1px rgba(0, 0, 0, 0.15);\n",
              "      filter: drop-shadow(0px 1px 2px rgba(0, 0, 0, 0.3));\n",
              "      fill: #FFFFFF;\n",
              "    }\n",
              "  </style>\n",
              "\n",
              "      <script>\n",
              "        const buttonEl =\n",
              "          document.querySelector('#df-989b6bd2-84fa-428f-af55-a8d3ff2446cb button.colab-df-convert');\n",
              "        buttonEl.style.display =\n",
              "          google.colab.kernel.accessAllowed ? 'block' : 'none';\n",
              "\n",
              "        async function convertToInteractive(key) {\n",
              "          const element = document.querySelector('#df-989b6bd2-84fa-428f-af55-a8d3ff2446cb');\n",
              "          const dataTable =\n",
              "            await google.colab.kernel.invokeFunction('convertToInteractive',\n",
              "                                                     [key], {});\n",
              "          if (!dataTable) return;\n",
              "\n",
              "          const docLinkHtml = 'Like what you see? Visit the ' +\n",
              "            '<a target=\"_blank\" href=https://colab.research.google.com/notebooks/data_table.ipynb>data table notebook</a>'\n",
              "            + ' to learn more about interactive tables.';\n",
              "          element.innerHTML = '';\n",
              "          dataTable['output_type'] = 'display_data';\n",
              "          await google.colab.output.renderOutput(dataTable, element);\n",
              "          const docLink = document.createElement('div');\n",
              "          docLink.innerHTML = docLinkHtml;\n",
              "          element.appendChild(docLink);\n",
              "        }\n",
              "      </script>\n",
              "    </div>\n",
              "  </div>\n",
              "  "
            ]
          },
          "metadata": {},
          "execution_count": 37
        }
      ]
    },
    {
      "cell_type": "code",
      "source": [
        "data.columns"
      ],
      "metadata": {
        "colab": {
          "base_uri": "https://localhost:8080/"
        },
        "id": "VBqbS_jUXy_j",
        "outputId": "f651bd28-2161-4005-cbca-82c00f5303f5"
      },
      "execution_count": 38,
      "outputs": [
        {
          "output_type": "execute_result",
          "data": {
            "text/plain": [
              "Index(['Unnamed: 0', 'IDENTITAS', 'UMUR', 'JENIS_KELAMIN',\n",
              "       'PENGALAMAN_MENGEMUDI', 'PENDIDIKAN', 'PENGHASILAN', 'SKOR_KREDIT',\n",
              "       'PEMILIK_KENDARAAN', 'TAHUN_PRODUKSI', 'STATUS', 'ANAK', 'KODE_POS',\n",
              "       'KM_PER_TAHUN', 'JENIS_KENDARAAN', 'TILANG_NGEBUT', 'TILANG_MABUK',\n",
              "       'KECELAKAAN_SEBELUMNYA', 'KLAIM'],\n",
              "      dtype='object')"
            ]
          },
          "metadata": {},
          "execution_count": 38
        }
      ]
    },
    {
      "cell_type": "code",
      "source": [
        "data.dtypes"
      ],
      "metadata": {
        "colab": {
          "base_uri": "https://localhost:8080/"
        },
        "id": "Plq1dGO8X3fg",
        "outputId": "12ace297-2741-4cf0-af3b-317fea52f792"
      },
      "execution_count": 39,
      "outputs": [
        {
          "output_type": "execute_result",
          "data": {
            "text/plain": [
              "Unnamed: 0                 int64\n",
              "IDENTITAS                  int64\n",
              "UMUR                      object\n",
              "JENIS_KELAMIN              int64\n",
              "PENGALAMAN_MENGEMUDI      object\n",
              "PENDIDIKAN                 int64\n",
              "PENGHASILAN               object\n",
              "SKOR_KREDIT              float64\n",
              "PEMILIK_KENDARAAN          int64\n",
              "TAHUN_PRODUKSI           float64\n",
              "STATUS                    object\n",
              "ANAK                       int64\n",
              "KODE_POS                   int64\n",
              "KM_PER_TAHUN             float64\n",
              "JENIS_KENDARAAN            int64\n",
              "TILANG_NGEBUT              int64\n",
              "TILANG_MABUK               int64\n",
              "KECELAKAAN_SEBELUMNYA      int64\n",
              "KLAIM                      int64\n",
              "dtype: object"
            ]
          },
          "metadata": {},
          "execution_count": 39
        }
      ]
    },
    {
      "cell_type": "code",
      "source": [
        "data_categorical =['SKOR_KREDIT','KM_PER_TAHUN']\n",
        "data_numeric =['UMUR','PENDIDIKAN','PENGALAMAN_MENGEMUDI','PENGHASILAN']\n",
        "data_binary = ['JENIS_KELAMIN','TAHUN_PRODUKSI','STATUS','ANAK','JENIS_KENDARAAN',]\n",
        "data_target = ['KLAIM']"
      ],
      "metadata": {
        "id": "Qy_cOW9qYCu5"
      },
      "execution_count": null,
      "outputs": []
    }
  ]
}